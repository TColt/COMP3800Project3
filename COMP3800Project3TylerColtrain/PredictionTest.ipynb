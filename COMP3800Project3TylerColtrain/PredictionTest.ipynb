{
 "cells": [
  {
   "cell_type": "code",
   "execution_count": 34,
   "id": "93df0db9",
   "metadata": {},
   "outputs": [],
   "source": [
    "import pickle\n",
    "\n",
    "knn_model = pickle.load(open('model.pkl', 'rb'))\n",
    "scaler = pickle.load(open('scaler.pkl','rb'))\n"
   ]
  },
  {
   "cell_type": "code",
   "execution_count": 57,
   "id": "7ba46299",
   "metadata": {},
   "outputs": [
    {
     "name": "stderr",
     "output_type": "stream",
     "text": [
      "C:\\Users\\Kai\\anaconda3\\lib\\site-packages\\sklearn\\base.py:450: UserWarning: X does not have valid feature names, but MinMaxScaler was fitted with feature names\n",
      "  warnings.warn(\n",
      "C:\\Users\\Kai\\anaconda3\\lib\\site-packages\\sklearn\\base.py:450: UserWarning: X does not have valid feature names, but MinMaxScaler was fitted with feature names\n",
      "  warnings.warn(\n"
     ]
    }
   ],
   "source": [
    "#testing scaling and prediction\n",
    "#ejection,time\n",
    "#based on data the following 20,4 should fail result\n",
    "death_test = [[20,4]]\n",
    "alive_test = [[285,45]]\n",
    "x_scaled_death = scaler.transform(death_test)\n",
    "x_scaled_alive = scaler.transform(alive_test)"
   ]
  },
  {
   "cell_type": "code",
   "execution_count": 58,
   "id": "7d2c535d",
   "metadata": {},
   "outputs": [
    {
     "name": "stdout",
     "output_type": "stream",
     "text": [
      "[1]\n",
      "[0]\n"
     ]
    }
   ],
   "source": [
    "fail = knn_model.predict(x_scaled_death)\n",
    "passing = knn_model.predict(x_scaled_alive)\n",
    "print(fail)\n",
    "print(passing)\n",
    "#death event - 1 for true 0 for falst"
   ]
  },
  {
   "cell_type": "code",
   "execution_count": null,
   "id": "1c8f691a",
   "metadata": {},
   "outputs": [],
   "source": []
  }
 ],
 "metadata": {
  "kernelspec": {
   "display_name": "Python 3 (ipykernel)",
   "language": "python",
   "name": "python3"
  },
  "language_info": {
   "codemirror_mode": {
    "name": "ipython",
    "version": 3
   },
   "file_extension": ".py",
   "mimetype": "text/x-python",
   "name": "python",
   "nbconvert_exporter": "python",
   "pygments_lexer": "ipython3",
   "version": "3.9.12"
  }
 },
 "nbformat": 4,
 "nbformat_minor": 5
}
